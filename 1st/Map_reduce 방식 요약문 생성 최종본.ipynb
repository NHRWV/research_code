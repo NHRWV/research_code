{
 "cells": [
  {
   "cell_type": "code",
   "execution_count": null,
   "id": "d24e0e23",
   "metadata": {},
   "outputs": [],
   "source": [
    "import pandas as pd\n",
    "import itertools\n",
    "from langchain.chat_models import ChatOpenAI\n",
    "from langchain.chains.summarize import load_summarize_chain\n",
    "from langchain.text_splitter import RecursiveCharacterTextSplitter\n",
    "from langchain.prompts import PromptTemplate\n",
    "\n",
    "from langchain.chains import MapReduceDocumentsChain, ReduceDocumentsChain\n",
    "from langchain.text_splitter import CharacterTextSplitter\n",
    "from langchain.chains.llm import LLMChain\n",
    "from langchain.chains.combine_documents.stuff import StuffDocumentsChain"
   ]
  },
  {
   "cell_type": "code",
   "execution_count": null,
   "id": "076447a4",
   "metadata": {},
   "outputs": [],
   "source": [
    "# all_df = pd.read_excel('all_df.xlsx')\n",
    "before_covid_umap_df = pd.read_excel('before_covid_umap_df(20) (2).xlsx')\n",
    "covid_umap_df = pd.read_excel('covid_umap_df(20) (2).xlsx')\n",
    "after_covid_umap_df = pd.read_excel('after_covid_umap_df(20) (2).xlsx')"
   ]
  },
  {
   "cell_type": "code",
   "execution_count": null,
   "id": "a37f473f",
   "metadata": {},
   "outputs": [],
   "source": [
    "llm = ChatOpenAI(\n",
    "    temperature=0,\n",
    "    openai_api_key=\"\"\n",
    ")"
   ]
  },
  {
   "cell_type": "code",
   "execution_count": null,
   "id": "573a951b",
   "metadata": {},
   "outputs": [],
   "source": [
    "map_template = \"\"\"The following is a set of documents\n",
    "{docs}\n",
    "Based on this list of docs, you should identify the main themes in Korean.\n",
    "Instead of simply listing the content, please provide the overarching themes based on the technologies and fields that run through each docs in three sentences or less.\n",
    "\n",
    "This is a sample answer : 주어진 문서는 초지 이용 기술 개발과 체험관광형 목장 이용 모델 설정을 통해 초지의 부가가치 창출과 방문객 만족도 향상을 도모하고자 하는 연구 내용을 담고 있습니다.\n",
    "\n",
    "Helpful Answer:\"\"\"\n",
    "\n",
    "prompt_template = PromptTemplate.from_template(\n",
    "    template=map_template\n",
    ")\n",
    "\n",
    "map_chain = LLMChain(llm=llm, prompt=prompt_template)"
   ]
  },
  {
   "cell_type": "code",
   "execution_count": null,
   "id": "19578c28",
   "metadata": {},
   "outputs": [],
   "source": [
    "reduce_template = \"\"\"The following is set of summaries in Korean:\n",
    "{docs}\n",
    "Take these and distill it into a final, consolidated summary of the main themes in Korean.\n",
    "Instead of simply listing the content, please provide the overarching themes based on the technologies and fields that run through each docs in three sentences or less.\n",
    "\n",
    "This is a sample answer : 주어진 문서는 초지 이용 기술 개발과 체험관광형 목장 이용 모델 설정을 통해 초지의 부가가치 창출과 방문객 만족도 향상을 도모하고자 하는 연구 내용을 담고 있습니다.\n",
    "\n",
    "Helpful Answer:\"\"\"\n",
    "\n",
    "reduce_prompt = PromptTemplate.from_template(reduce_template)"
   ]
  },
  {
   "cell_type": "code",
   "execution_count": null,
   "id": "0f640abe",
   "metadata": {},
   "outputs": [],
   "source": [
    "reduce_chain = LLMChain(llm=llm, prompt=reduce_prompt)\n",
    "\n",
    "combine_documents_chain = StuffDocumentsChain(\n",
    "    llm_chain=reduce_chain, document_variable_name=\"docs\"\n",
    ")\n",
    "\n",
    "reduce_documents_chain = ReduceDocumentsChain(\n",
    "    # 아래가 마지막 체인\n",
    "    combine_documents_chain=combine_documents_chain,\n",
    "    collapse_documents_chain=combine_documents_chain # If documents exceed context for`StuffDocumentsChain` \n",
    "    \n",
    "#    token_max=4000 # 문서 그룹화 할 최대 토큰 개수\n",
    ")"
   ]
  },
  {
   "cell_type": "code",
   "execution_count": null,
   "id": "4d075b71",
   "metadata": {},
   "outputs": [],
   "source": [
    "# Combining documents by mapping a chain over them, then combining results\n",
    "map_reduce_chain = MapReduceDocumentsChain(\n",
    "    # Map chain\n",
    "    llm_chain=map_chain,\n",
    "    # Reduce chain\n",
    "    reduce_documents_chain=reduce_documents_chain,\n",
    "    \n",
    "    document_variable_name=\"docs\",\n",
    "    return_intermediate_steps=False # output에 map_steps 결과 리턴 여부\n",
    ")\n"
   ]
  },
  {
   "cell_type": "code",
   "execution_count": null,
   "id": "75313878",
   "metadata": {},
   "outputs": [],
   "source": [
    "text_splitter = RecursiveCharacterTextSplitter(chunk_size = 1000,\n",
    "    chunk_overlap  = 20,\n",
    "    length_function = len,\n",
    "    add_start_index = True)"
   ]
  },
  {
   "cell_type": "code",
   "execution_count": null,
   "id": "8c927601",
   "metadata": {},
   "outputs": [],
   "source": [
    "sum_up_lst2 = [[], [], []] # 프롬프트\n",
    "\n",
    "df_lst = [before_covid_umap_df, covid_umap_df, after_covid_umap_df]"
   ]
  },
  {
   "cell_type": "code",
   "execution_count": null,
   "id": "383f553f",
   "metadata": {},
   "outputs": [],
   "source": [
    "for idx, i in enumerate(df_lst):\n",
    "    cluster_num = 0\n",
    "    \n",
    "    while cluster_num in i['cluster'].values:\n",
    "        cluster = list(i.loc[i['cluster'] == cluster_num, '초록(국문)'])\n",
    "        split_docs = text_splitter.create_documents(cluster)\n",
    "\n",
    "        result = map_reduce_chain.run(split_docs)    \n",
    "        sum_up_lst2[idx].append(result)\n",
    "        \n",
    "        cluster_num += 1"
   ]
  },
  {
   "cell_type": "code",
   "execution_count": null,
   "id": "cfdebc09",
   "metadata": {},
   "outputs": [],
   "source": [
    "sum_up_lst2[0][1]"
   ]
  },
  {
   "cell_type": "code",
   "execution_count": null,
   "id": "03686433",
   "metadata": {
    "scrolled": true
   },
   "outputs": [],
   "source": [
    "sum_up_lst2[2]"
   ]
  },
  {
   "cell_type": "code",
   "execution_count": null,
   "id": "3b43073f",
   "metadata": {},
   "outputs": [],
   "source": [
    "all_df = pd.read_excel('all_df (2).xlsx')"
   ]
  },
  {
   "cell_type": "code",
   "execution_count": null,
   "id": "ca3fb04b",
   "metadata": {},
   "outputs": [],
   "source": [
    "\n",
    "\n",
    "all_lst = [all_df]\n",
    "all_result = []\n",
    "\n",
    "for idx, i in enumerate(all_lst):\n",
    "    cluster_num = 0\n",
    "    \n",
    "    while cluster_num in i['cluster'].values:\n",
    "        cluster = list(i.loc[i['cluster'] == cluster_num, '초록(국문)'])\n",
    "        split_docs = text_splitter.create_documents(cluster)\n",
    "\n",
    "        result = map_reduce_chain.run(split_docs)    \n",
    "        all_result.append(result)\n",
    "        \n",
    "        cluster_num += 1\n",
    "        "
   ]
  },
  {
   "cell_type": "code",
   "execution_count": null,
   "id": "038abfe2",
   "metadata": {},
   "outputs": [],
   "source": [
    "all_result"
   ]
  },
  {
   "cell_type": "code",
   "execution_count": null,
   "id": "365ca9a6",
   "metadata": {},
   "outputs": [],
   "source": [
    "len(all_result)"
   ]
  },
  {
   "cell_type": "code",
   "execution_count": null,
   "id": "273a9e8a",
   "metadata": {},
   "outputs": [],
   "source": []
  }
 ],
 "metadata": {
  "kernelspec": {
   "display_name": "Python 3 (ipykernel)",
   "language": "python",
   "name": "python3"
  },
  "language_info": {
   "codemirror_mode": {
    "name": "ipython",
    "version": 3
   },
   "file_extension": ".py",
   "mimetype": "text/x-python",
   "name": "python",
   "nbconvert_exporter": "python",
   "pygments_lexer": "ipython3",
   "version": "3.9.13"
  }
 },
 "nbformat": 4,
 "nbformat_minor": 5
}
