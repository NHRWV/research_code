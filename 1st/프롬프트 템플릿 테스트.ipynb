{
 "cells": [
  {
   "cell_type": "code",
   "execution_count": 1,
   "id": "8f02e672",
   "metadata": {},
   "outputs": [],
   "source": [
    "import pandas as pd\n",
    "import itertools\n",
    "from langchain.chat_models import ChatOpenAI\n",
    "from langchain.chains.summarize import load_summarize_chain\n",
    "from langchain.text_splitter import RecursiveCharacterTextSplitter\n",
    "from langchain.prompts import PromptTemplate\n",
    "\n",
    "from langchain.chains import MapReduceDocumentsChain, ReduceDocumentsChain\n",
    "from langchain.text_splitter import CharacterTextSplitter\n",
    "from langchain.chains.llm import LLMChain\n",
    "from langchain.chains.combine_documents.stuff import StuffDocumentsChain"
   ]
  },
  {
   "cell_type": "code",
   "execution_count": 2,
   "id": "ce156f9a",
   "metadata": {},
   "outputs": [],
   "source": [
    "before_covid_umap_df = pd.read_excel('before_covid_umap_df(20) (2).xlsx')"
   ]
  },
  {
   "cell_type": "code",
   "execution_count": 3,
   "id": "f74903dc",
   "metadata": {},
   "outputs": [],
   "source": [
    "llm = ChatOpenAI(\n",
    "    temperature=0,\n",
    "    openai_api_key=\"\"\n",
    ")"
   ]
  },
  {
   "cell_type": "code",
   "execution_count": 4,
   "id": "c340f68e",
   "metadata": {},
   "outputs": [],
   "source": [
    "map_template = \"\"\"The following is a set of documents\n",
    "{docs}\n",
    "Based on this list of docs, you should identify the main themes in Korean.\n",
    "Instead of simply listing the content, please provide the overarching themes based on the technologies and fields that run through each docs in three sentences or less.\n",
    "\n",
    "This is a sample answer : 주어진 문서는 초지 이용 기술 개발과 체험관광형 목장 이용 모델 설정을 통해 초지의 부가가치 창출과 방문객 만족도 향상을 도모하고자 하는 연구 내용을 담고 있습니다.\n",
    "\n",
    "Helpful Answer:\"\"\"\n",
    "\n",
    "prompt_template = PromptTemplate.from_template(\n",
    "    template=map_template\n",
    ")\n",
    "\n",
    "map_chain = LLMChain(llm=llm, prompt=prompt_template)"
   ]
  },
  {
   "cell_type": "code",
   "execution_count": 5,
   "id": "f94c2304",
   "metadata": {},
   "outputs": [],
   "source": [
    "reduce_template = \"\"\"The following is set of summaries in Korean:\n",
    "{docs}\n",
    "Take these and distill it into a final, consolidated summary of the main themes in Korean.\n",
    "Instead of simply listing the content, please provide the overarching themes based on the technologies and fields that run through each docs in three sentences or less.\n",
    "\n",
    "This is a sample answer : 주어진 문서는 초지 이용 기술 개발과 체험관광형 목장 이용 모델 설정을 통해 초지의 부가가치 창출과 방문객 만족도 향상을 도모하고자 하는 연구 내용을 담고 있습니다.\n",
    "\n",
    "Helpful Answer:\"\"\"\n",
    "\n",
    "reduce_prompt = PromptTemplate.from_template(reduce_template)"
   ]
  },
  {
   "cell_type": "code",
   "execution_count": 6,
   "id": "4e23957b",
   "metadata": {},
   "outputs": [],
   "source": [
    "# Run chain\n",
    "reduce_chain = LLMChain(llm=llm, prompt=reduce_prompt)\n",
    "\n",
    "# Takes a list of documents, combines them into a single string, and passes this to an LLMChain\n",
    "combine_documents_chain = StuffDocumentsChain(\n",
    "    llm_chain=reduce_chain, document_variable_name=\"docs\"\n",
    ")\n",
    "\n",
    "# Combines and iteravely reduces the mapped documents\n",
    "reduce_documents_chain = ReduceDocumentsChain(\n",
    "    # This is final chain that is called.\n",
    "    combine_documents_chain=combine_documents_chain,\n",
    "    # If documents exceed context for `StuffDocumentsChain`\n",
    "    collapse_documents_chain=combine_documents_chain\n",
    "    # The maximum number of tokens to group documents into.\n",
    "#    token_max=4000,\n",
    ")"
   ]
  },
  {
   "cell_type": "code",
   "execution_count": 7,
   "id": "6cf4445f",
   "metadata": {},
   "outputs": [],
   "source": [
    "# Combining documents by mapping a chain over them, then combining results\n",
    "map_reduce_chain = MapReduceDocumentsChain(\n",
    "    # Map chain\n",
    "    llm_chain=map_chain,\n",
    "    # Reduce chain\n",
    "    reduce_documents_chain=reduce_documents_chain,\n",
    "    # The variable name in the llm_chain to put the documents in\n",
    "    document_variable_name=\"docs\",\n",
    "    # Return the results of the map steps in the output\n",
    "    return_intermediate_steps=False,\n",
    ")\n"
   ]
  },
  {
   "cell_type": "code",
   "execution_count": 8,
   "id": "f8c7bdb9",
   "metadata": {},
   "outputs": [],
   "source": [
    "text_splitter = RecursiveCharacterTextSplitter(chunk_size = 1000,\n",
    "    chunk_overlap  = 20,\n",
    "    length_function = len,\n",
    "    add_start_index = True)"
   ]
  },
  {
   "cell_type": "code",
   "execution_count": 9,
   "id": "2936e1e3",
   "metadata": {},
   "outputs": [],
   "source": [
    "cluster_1 = list(before_covid_umap_df.loc[before_covid_umap_df['cluster']==1, '초록(국문)'])"
   ]
  },
  {
   "cell_type": "code",
   "execution_count": 10,
   "id": "d4d5239e",
   "metadata": {},
   "outputs": [],
   "source": [
    "docs = text_splitter.create_documents(cluster_1)"
   ]
  },
  {
   "cell_type": "code",
   "execution_count": 11,
   "id": "bcfa9426",
   "metadata": {},
   "outputs": [
    {
     "data": {
      "text/plain": [
       "'문서들의 주요 테마는 핵융합 분야에서 대학과 대학원 수준의 온라인 비디오 강의 개발과 홍보입니다. 이를 통해 학생들에게 핵융합 분야의 플라즈마 기초에 대해 깊이 있는 학습 기회를 제공하고 이 분야로의 진입을 용이하게 할 것입니다. 또한, 문서들은 ECSS-E-40과 DO-178C의 요구 사항을 충족하기 위해 아키텍처 기반의 순환 공학 시각화 모델 및 플랫폼 구현, 형식적 방법을 사용한 순환 공학 환경 개발 등을 포함한 우주 소프트웨어의 구성 관리, 품질 보증, 테스트 및 평가, 실패 및 이력 관리, 안전 및 신뢰성 보증에 대한 방법론과 도구의 개발에 대해 논의합니다. 또한, 문서들은 노인들의 추락 위험 평가를 위한 스크리닝 방법론의 개발과 검증, 장기요양보험과 관련된 의료비 절감을 위한 시스템화된 평가 방법의 개발 및 기존 추락 위험 평가 방법과의 통합을 목표로 합니다. 이러한 문서들은 노인들의 추락 예방 전략과 노인의 장기요양에 따른 의료비 절감에 관한 주제를 다룹니다.'"
      ]
     },
     "execution_count": 11,
     "metadata": {},
     "output_type": "execute_result"
    }
   ],
   "source": [
    "map_reduce_chain.run(docs)"
   ]
  },
  {
   "cell_type": "code",
   "execution_count": null,
   "id": "67cc6c98",
   "metadata": {},
   "outputs": [],
   "source": []
  }
 ],
 "metadata": {
  "kernelspec": {
   "display_name": "Python 3 (ipykernel)",
   "language": "python",
   "name": "python3"
  },
  "language_info": {
   "codemirror_mode": {
    "name": "ipython",
    "version": 3
   },
   "file_extension": ".py",
   "mimetype": "text/x-python",
   "name": "python",
   "nbconvert_exporter": "python",
   "pygments_lexer": "ipython3",
   "version": "3.9.13"
  }
 },
 "nbformat": 4,
 "nbformat_minor": 5
}
